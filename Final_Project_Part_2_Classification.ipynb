{
 "cells": [
  {
   "cell_type": "code",
   "execution_count": 5,
   "metadata": {
    "id": "y_Dn9rzyiqxi"
   },
   "outputs": [],
   "source": [
    "import pandas as pd\n",
    "import numpy as np\n",
    "import torch\n",
    "import torch.nn as nn"
   ]
  },
  {
   "cell_type": "markdown",
   "metadata": {
    "id": "GGLKx-6qiz-_"
   },
   "source": [
    "Upload the labels.csv and processed_counts.csv files to colab or your local workspace.\n",
    "\n",
    "**Copied from Part 1:**\n",
    "This data associates a cell barcode, such as \"AAAGCCTGGCTAAC-1\", to a certain cell type label, such as \"CD14+ Monocyte\". For each cell barcode, there are also log RNA seq counts of 765 different genes, such as HES4.\n",
    "\n",
    "label.csv stores the association between a cell barcode and a cell type label.\n",
    "\n",
    "processed_counts.csv stores the normalized log read counts for each cell, where each row represents a single cell, and each column represents a gene."
   ]
  },
  {
   "cell_type": "code",
   "execution_count": 6,
   "metadata": {
    "id": "WelsjSzviy4m"
   },
   "outputs": [],
   "source": [
    "labels_pd = pd.read_csv(\"labels.csv\")\n",
    "counts_pd = pd.read_csv(\"processed_counts.csv\")"
   ]
  },
  {
   "cell_type": "code",
   "execution_count": null,
   "metadata": {
    "colab": {
     "base_uri": "https://localhost:8080/",
     "height": 592
    },
    "id": "aIX8kcTXi7EV",
    "outputId": "aacbc984-4c80-42bd-d4d5-01bd54f12ca8"
   },
   "outputs": [],
   "source": [
    "labels_pd.index = labels_pd['index']\n",
    "labels_pd.drop(\"index\", axis=1, inplace=True)\n",
    "counts_pd.index = counts_pd['Unnamed: 0']\n",
    "counts_pd.drop(\"Unnamed: 0\", axis=1, inplace=True)\n",
    "\n",
    "df = counts_pd.merge(labels_pd, left_index=True, right_index=True).dropna()\n",
    "df"
   ]
  },
  {
   "cell_type": "markdown",
   "metadata": {
    "id": "wUxSCyz7jBQf"
   },
   "source": [
    "One-hot encode the cell-type.\n",
    "\n",
    "Shuffle your data. Make sure your labels and the counts are shuffled together.\n",
    "\n",
    "Split into train and test sets (80:20 split)"
   ]
  },
  {
   "cell_type": "code",
   "execution_count": 8,
   "metadata": {
    "colab": {
     "base_uri": "https://localhost:8080/"
    },
    "id": "XDTqBhcA7V8t",
    "outputId": "f30f081b-ccb4-4076-f774-f31c4f240951"
   },
   "outputs": [
    {
     "name": "stdout",
     "output_type": "stream",
     "text": [
      "['Monocytes' 'NK' 'T-cell' 'Dendritic' 'Plasma' 'B-cell' 'Other']\n"
     ]
    }
   ],
   "source": [
    "categories = df['cell type'].unique()\n",
    "print(categories)\n",
    "\n",
    "#one-hot encoding\n",
    "y = np.zeros((len(df), len(categories)))\n",
    "for i in range(len(df)):\n",
    "  cell_type = df.iloc[i]['cell type']\n",
    "  pos = np.where(categories == cell_type)[0]\n",
    "  y[i, pos] = 1\n",
    "\n",
    "#remove label when processing input data\n",
    "X = df.drop('cell type', axis=1).values\n",
    "\n",
    "#shufle and 80:20 split\n",
    "np.random.seed(100)\n",
    "permutation = np.random.permutation(len(X))\n",
    "X, y = X[permutation], y[permutation]\n",
    "\n",
    "X_train, y_train = X[:int(len(X)*0.8)], y[:int(len(y)*0.8)]\n",
    "X_test, y_test = X[int(len(X)*0.8):], y[int(len(y)*0.8):]"
   ]
  },
  {
   "cell_type": "code",
   "execution_count": 17,
   "metadata": {
    "colab": {
     "base_uri": "https://localhost:8080/",
     "height": 854
    },
    "id": "l0Xrhu4LZNa9",
    "outputId": "0c62d1cb-7cfc-4e11-ec81-0a5b474f116f"
   },
   "outputs": [
    {
     "data": {
      "text/plain": [
       "<matplotlib.image.AxesImage at 0x7fa18896b250>"
      ]
     },
     "execution_count": 17,
     "metadata": {
      "tags": []
     },
     "output_type": "execute_result"
    },
    {
     "data": {
      "image/png": "[encoded data removed]",
      "text/plain": [
       "<Figure size 2700x900 with 1 Axes>"
      ]
     },
     "metadata": {
      "needs_background": "light",
      "tags": []
     },
     "output_type": "display_data"
    }
   ],
   "source": [
    "#Visualize the One-hot encoded Prediction Labels\n",
    "import matplotlib.pyplot as plt\n",
    "plt.figure(figsize=(9,3), dpi=300)\n",
    "plt.imshow(y_train[:50])"
   ]
  },
  {
   "cell_type": "markdown",
   "metadata": {
    "id": "XHIg7i1k7U-G"
   },
   "source": [
    "Apply classification algorithms to the training data, tune on validation data (if present), and evaluate on test data.\n",
    "\n",
    "You can also apply classification downstream of last week's autoencoder latent space representation."
   ]
  },
  {
   "cell_type": "code",
   "execution_count": 2,
   "metadata": {
    "id": "b8mvigLP7Sej"
   },
   "outputs": [],
   "source": []
  },
  {
   "cell_type": "code",
   "execution_count": 2,
   "metadata": {
    "id": "Gk1sfdNe76Kl"
   },
   "outputs": [],
   "source": []
  },
  {
   "cell_type": "code",
   "execution_count": 2,
   "metadata": {
    "id": "u4Q6KU3c8u-E"
   },
   "outputs": [],
   "source": []
  },
  {
   "cell_type": "code",
   "execution_count": 2,
   "metadata": {
    "id": "7Trjfxkk8wyg"
   },
   "outputs": [],
   "source": []
  },
  {
   "cell_type": "code",
   "execution_count": 2,
   "metadata": {
    "id": "jGa5B6Ir9KN4"
   },
   "outputs": [],
   "source": []
  },
  {
   "cell_type": "code",
   "execution_count": 2,
   "metadata": {
    "id": "I2xcMPP09KxV"
   },
   "outputs": [],
   "source": []
  },
  {
   "cell_type": "code",
   "execution_count": 2,
   "metadata": {
    "id": "1DPmGoHo9uwx"
   },
   "outputs": [],
   "source": []
  },
  {
   "cell_type": "code",
   "execution_count": null,
   "metadata": {
    "id": "Kx7cMeYPFiEA"
   },
   "outputs": [],
   "source": []
  }
 ],
 "metadata": {
  "colab": {
   "collapsed_sections": [],
   "name": "Final Project Part 2 - Classification",
   "provenance": []
  },
  "kernelspec": {
   "display_name": "Python 3 (ipykernel)",
   "language": "python",
   "name": "python3"
  },
  "language_info": {
   "codemirror_mode": {
    "name": "ipython",
    "version": 3
   },
   "file_extension": ".py",
   "mimetype": "text/x-python",
   "name": "python",
   "nbconvert_exporter": "python",
   "pygments_lexer": "ipython3",
   "version": "3.9.13"
  }
 },
 "nbformat": 4,
 "nbformat_minor": 1
}
